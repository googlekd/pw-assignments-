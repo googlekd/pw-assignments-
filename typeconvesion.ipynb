{
 "cells": [
  {
   "cell_type": "code",
   "execution_count": 1,
   "id": "728ea1a5-5e10-4f7d-8ddf-7f8dcf52d424",
   "metadata": {},
   "outputs": [
    {
     "name": "stdout",
     "output_type": "stream",
     "text": [
      "5.0\n"
     ]
    }
   ],
   "source": [
    "#1\n",
    "integer_number = 5\n",
    "float_number = float(integer_number)\n",
    "print(float_number)\n"
   ]
  },
  {
   "cell_type": "code",
   "execution_count": 3,
   "id": "c7b7fbff-0106-4064-a039-66d6979d7591",
   "metadata": {},
   "outputs": [
    {
     "name": "stdout",
     "output_type": "stream",
     "text": [
      "3\n"
     ]
    }
   ],
   "source": [
    "#2\n",
    "float_number = 3.14\n",
    "integer_number = int(float_number)\n",
    "print(integer_number)\n"
   ]
  },
  {
   "cell_type": "code",
   "execution_count": 4,
   "id": "fb5a52c7-2828-4d50-a791-1c55cd1ed5b8",
   "metadata": {},
   "outputs": [
    {
     "name": "stdout",
     "output_type": "stream",
     "text": [
      "50%\n"
     ]
    }
   ],
   "source": [
    "#3\n",
    "integer_number = 50\n",
    "percentage = \"{:.0%}\".format(integer_number / 100)\n",
    "print(percentage)\n"
   ]
  },
  {
   "cell_type": "code",
   "execution_count": 5,
   "id": "18ad0ea5-a8af-432f-84fd-5ba61b15a16d",
   "metadata": {},
   "outputs": [
    {
     "name": "stdout",
     "output_type": "stream",
     "text": [
      "[1, 2, 3]\n",
      "(1, 2, 3)\n"
     ]
    }
   ],
   "source": [
    "#4\n",
    "my_list = [1, 2,3]\n",
    "print(my_list)\n",
    "my_tuple =tuple(my_list)\n",
    "print(my_tuple)\n"
   ]
  },
  {
   "cell_type": "code",
   "execution_count": null,
   "id": "f37c9b7a-2576-4e81-84b0-727f782e841c",
   "metadata": {},
   "outputs": [],
   "source": []
  },
  {
   "cell_type": "code",
   "execution_count": null,
   "id": "3de9dd63-1443-4dc6-8ca9-312132b596da",
   "metadata": {},
   "outputs": [],
   "source": []
  }
 ],
 "metadata": {
  "kernelspec": {
   "display_name": "Python 3 (ipykernel)",
   "language": "python",
   "name": "python3"
  },
  "language_info": {
   "codemirror_mode": {
    "name": "ipython",
    "version": 3
   },
   "file_extension": ".py",
   "mimetype": "text/x-python",
   "name": "python",
   "nbconvert_exporter": "python",
   "pygments_lexer": "ipython3",
   "version": "3.10.8"
  }
 },
 "nbformat": 4,
 "nbformat_minor": 5
}
